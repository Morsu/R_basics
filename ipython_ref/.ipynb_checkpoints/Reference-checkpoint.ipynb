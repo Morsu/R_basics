{
 "metadata": {
  "name": ""
 },
 "nbformat": 3,
 "nbformat_minor": 0,
 "worksheets": [
  {
   "cells": [
    {
     "cell_type": "code",
     "collapsed": false,
     "input": [
      "% load_ext rmagic"
     ],
     "language": "python",
     "metadata": {},
     "outputs": [
      {
       "output_type": "stream",
       "stream": "stdout",
       "text": [
        "The rmagic extension is already loaded. To reload it, use:\n",
        "  %reload_ext rmagic\n"
       ]
      }
     ],
     "prompt_number": 58
    },
    {
     "cell_type": "markdown",
     "metadata": {},
     "source": [
      "# Data types:\n",
      "\n",
      "* atomic classes:\n",
      "\n",
      "    * numeric\n",
      "    * logical\n",
      "    * character\n",
      "    * integer\n",
      "    * complex\n",
      "    \n",
      "* factors\n",
      "* missing vals\n",
      "* data frames\n",
      "* names"
     ]
    },
    {
     "cell_type": "code",
     "collapsed": false,
     "input": [
      "%%R\n",
      "\n",
      "range<-1:30\n",
      "\n",
      "range2=seq(from=1,to=30)\n",
      "range1==range2"
     ],
     "language": "python",
     "metadata": {},
     "outputs": [],
     "prompt_number": 11
    },
    {
     "cell_type": "code",
     "collapsed": false,
     "input": [
      "%%R\n",
      "#vectors can only contain objects of the same type; list is exception\n",
      "\n",
      "print(1/0==Inf)\n",
      "print(0/0)"
     ],
     "language": "python",
     "metadata": {},
     "outputs": [
      {
       "metadata": {},
       "output_type": "display_data",
       "text": [
        "[1] TRUE\n",
        "[1] NaN\n"
       ]
      }
     ],
     "prompt_number": 15
    },
    {
     "cell_type": "code",
     "collapsed": false,
     "input": [
      "%%R\n",
      "#vectors and lists\n",
      "\n",
      "concatenate<-c(0,2,3,4,5)  # els must be of the same type, otherwise coertion\n",
      "print(as.logical(concatenate))\n",
      "print(as.character(concatenate))\n",
      "\n",
      "lst<-list(1,\"a\",TRUE,1+4i) # els don't need to be of the same type\n",
      "\n",
      "# matrices\n",
      "\n",
      "matrix<-matrix(nrow=2,ncol=3) # nas\n",
      "dim(matrix) # rows/cols\n",
      "attributes(matrix) # here dim only, \n",
      "\n",
      "matrix <- matrix(1:6, nrow=2, ncol=3)\n",
      "\n",
      "#alternatively first list, then dimensions :\n",
      "matrix <- 1:20\n",
      "dim(matrix)<-c(4,5)\n",
      "\n",
      "x<-12:15\n",
      "y<-1:4\n",
      "cbind(x,y) # col bind\n",
      "rbind(x,y) # rows bind\n",
      "\n",
      "# factors:\n",
      "\n"
     ],
     "language": "python",
     "metadata": {},
     "outputs": [
      {
       "metadata": {},
       "output_type": "display_data",
       "text": [
        "[1] FALSE  TRUE  TRUE  TRUE  TRUE\n",
        "[1] \"0\" \"2\" \"3\" \"4\" \"5\"\n"
       ]
      }
     ],
     "prompt_number": 28
    },
    {
     "cell_type": "markdown",
     "metadata": {},
     "source": [
      "##Factors\n",
      "\n",
      "categorical data, integer vector where each int has label, self-describing"
     ]
    },
    {
     "cell_type": "code",
     "collapsed": false,
     "input": [
      "%%R\n",
      "fact1<-factor(c(\"yes\",\"yes\",\"no\",\"yes\",\"no\"))  # levels : yes or no\n",
      "print(fact1)\n",
      "\n",
      "table(fact1)\n",
      "\n",
      "unclass(fact1) #yes=1, no=2  -- integer vactor, le\n",
      "attr(fact1)\n"
     ],
     "language": "python",
     "metadata": {},
     "outputs": [
      {
       "metadata": {},
       "output_type": "display_data",
       "text": [
        "[1] yes yes no  yes no \n",
        "Levels: no yes\n"
       ]
      }
     ],
     "prompt_number": 33
    },
    {
     "cell_type": "markdown",
     "metadata": {},
     "source": [
      "## Missing values\n",
      "\n",
      "NaN for mathematical ops,\n",
      "NA for other objects"
     ]
    },
    {
     "cell_type": "code",
     "collapsed": false,
     "input": [
      "%%R\n",
      "\n",
      "x<-c(1,2,3,NA,NaN,\"s\")\n",
      "print(is.na(x))\n",
      "print(is.nan(x))\n"
     ],
     "language": "python",
     "metadata": {},
     "outputs": [
      {
       "metadata": {},
       "output_type": "display_data",
       "text": [
        "[1] FALSE FALSE FALSE  TRUE FALSE FALSE\n",
        "[1] FALSE FALSE FALSE FALSE FALSE FALSE\n"
       ]
      }
     ],
     "prompt_number": 45
    },
    {
     "cell_type": "markdown",
     "metadata": {},
     "source": [
      "## Data Frames\n",
      "\n",
      "to store tabular data\n",
      "can contain many types of objs"
     ]
    },
    {
     "cell_type": "code",
     "collapsed": false,
     "input": [
      "%%R\n",
      "\n",
      "df<-data.frame(foo=1:4, bar=c(T,T,F,F))\n",
      "print(df)"
     ],
     "language": "python",
     "metadata": {},
     "outputs": [
      {
       "metadata": {},
       "output_type": "display_data",
       "text": [
        "  foo   bar\n",
        "1   1  TRUE\n",
        "2   2  TRUE\n",
        "3   3 FALSE\n",
        "4   4 FALSE\n"
       ]
      }
     ],
     "prompt_number": 48
    },
    {
     "cell_type": "markdown",
     "metadata": {},
     "source": [
      "## Names"
     ]
    },
    {
     "cell_type": "code",
     "collapsed": false,
     "input": [
      "rang<-1:3\n",
      "names(rang)<-c(\"a\",\"b\",\"c\")\n",
      "names(rang)\n",
      "rang\n",
      "data.frame(rang)"
     ],
     "language": "python",
     "metadata": {},
     "outputs": []
    },
    {
     "cell_type": "markdown",
     "metadata": {},
     "source": [
      "## Reading Data\n",
      "\n",
      "* read.table, read.csv  - tabular data, the only difference is separator , csv:comma\n",
      "* readLines -- text files\n",
      "* source, dget -- reading code R\n",
      "* load -- workspaces\n",
      "* unserialize -- reading binary objs"
     ]
    },
    {
     "cell_type": "code",
     "collapsed": false,
     "input": [
      "%%R\n",
      "\n",
      "tbl=read.csv(\"../hw1_data.csv\")"
     ],
     "language": "python",
     "metadata": {},
     "outputs": [
      {
       "output_type": "stream",
       "stream": "stdout",
       "text": [
        "\n",
        "Error while parsing the string.\n"
       ]
      }
     ],
     "prompt_number": 64
    },
    {
     "cell_type": "code",
     "collapsed": false,
     "input": [
      "#hw\n",
      "x <- 1:4\n",
      "\n",
      "\n",
      "x <- c(17, 14, 4, 5, 13, 12, 10)\n",
      "x[x>10]<-\"a\"\n",
      "x <- 1:4\n",
      "y <- 2\n",
      "class(x+y)\n",
      "x+y\n",
      "\n",
      "tbl=read.csv(\"hw1_data.csv\")\n",
      "head(read.csv(\"hw1_data.csv\"),2)\n",
      "tail(read.csv(\"hw1_data.csv\"),2)\n",
      "read.csv(\"hw1_data.csv\")[47,]  # row\n",
      "\n",
      "bad=is.na(tbl[,\"Ozone\"])\n",
      "length(bad[bad==TRUE])\n",
      "\n",
      "mean(tbl[,\"Temp\"], na.rm=T)\n",
      "\n",
      "\n",
      "sub1=subset(tbl,Temp<101&Temp>90)\n",
      "mean(sub1[,\"Solar.R\"])\n",
      "\n",
      "\n",
      "\n",
      "class(4L)"
     ],
     "language": "python",
     "metadata": {},
     "outputs": [
      {
       "ename": "SyntaxError",
       "evalue": "invalid syntax (<ipython-input-65-4899dba319e2>, line 2)",
       "output_type": "pyerr",
       "traceback": [
        "\u001b[0;36m  File \u001b[0;32m\"<ipython-input-65-4899dba319e2>\"\u001b[0;36m, line \u001b[0;32m2\u001b[0m\n\u001b[0;31m    x <- 1:4\u001b[0m\n\u001b[0m          ^\u001b[0m\n\u001b[0;31mSyntaxError\u001b[0m\u001b[0;31m:\u001b[0m invalid syntax\n"
       ]
      }
     ],
     "prompt_number": 65
    }
   ],
   "metadata": {}
  }
 ]
}