{
 "metadata": {
  "name": ""
 },
 "nbformat": 3,
 "nbformat_minor": 0,
 "worksheets": [
  {
   "cells": [
    {
     "cell_type": "code",
     "collapsed": false,
     "input": [
      "% load_ext rmagic"
     ],
     "language": "python",
     "metadata": {},
     "outputs": [
      {
       "output_type": "stream",
       "stream": "stdout",
       "text": [
        "The rmagic extension is already loaded. To reload it, use:\n",
        "  %reload_ext rmagic\n"
       ]
      }
     ],
     "prompt_number": 10
    },
    {
     "cell_type": "code",
     "collapsed": false,
     "input": [
      "%%R\n",
      "\n",
      "range<-1:30\n",
      "\n",
      "range2=seq(from=1,to=30)\n",
      "range1==range2"
     ],
     "language": "python",
     "metadata": {},
     "outputs": [],
     "prompt_number": 11
    },
    {
     "cell_type": "code",
     "collapsed": false,
     "input": [
      "%%R\n",
      "#vectors can only contain objects of the same type; list is exception\n",
      "\n",
      "print(1/0==Inf)\n",
      "print(0/0)"
     ],
     "language": "python",
     "metadata": {},
     "outputs": [
      {
       "metadata": {},
       "output_type": "display_data",
       "text": [
        "[1] TRUE\n",
        "[1] NaN\n"
       ]
      }
     ],
     "prompt_number": 15
    },
    {
     "cell_type": "code",
     "collapsed": false,
     "input": [
      "%%R\n",
      "#vectors and lists\n",
      "\n",
      "concatenate<-c(0,2,3,4,5)  # els must be of the same type, otherwise coertion\n",
      "print(as.logical(concatenate))\n",
      "print(as.character(concatenate))\n",
      "\n",
      "lst<-list(1,\"a\",TRUE,1+4i) # els don't need to be of the same type\n",
      "\n",
      "# matrices\n",
      "\n",
      "matrix<-matrix(nrow=2,ncol=3) # nas\n",
      "dim(matrix) # rows/cols\n",
      "attributes(matrix) # here dim only, \n",
      "\n",
      "matrix <- matrix(1:6, nrow=2, ncol=3)\n",
      "\n",
      "#alternatively first list, then dimensions :\n",
      "matrix <- 1:20\n",
      "dim(matrix)<-c(4,5)\n",
      "\n",
      "x<-12:15\n",
      "y<-1:4\n",
      "cbind(x,y) # col bind\n",
      "rbind(x,y) # rows bind\n",
      "\n",
      "# factors:"
     ],
     "language": "python",
     "metadata": {},
     "outputs": [
      {
       "metadata": {},
       "output_type": "display_data",
       "text": [
        "[1] FALSE  TRUE  TRUE  TRUE  TRUE\n",
        "[1] \"0\" \"2\" \"3\" \"4\" \"5\"\n"
       ]
      }
     ],
     "prompt_number": 28
    },
    {
     "cell_type": "code",
     "collapsed": false,
     "input": [],
     "language": "python",
     "metadata": {},
     "outputs": []
    },
    {
     "cell_type": "code",
     "collapsed": false,
     "input": [
      "-"
     ],
     "language": "python",
     "metadata": {},
     "outputs": []
    }
   ],
   "metadata": {}
  }
 ]
}